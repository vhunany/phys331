{
 "cells": [
  {
   "cell_type": "markdown",
   "id": "e0b88a52",
   "metadata": {},
   "source": [
    "# Studio 2 -- Random Numbers and Integration\n",
    "## Put your group number and the full names of you and your groupmates here:\n",
    "### Group: #9\n",
    "- 1 -- Hannah James\n",
    "- 2 -- Victor Nguyen\n",
    "- 3 -- Viktorya Hunanyan\n",
    "\n"
   ]
  },
  {
   "cell_type": "code",
   "execution_count": 11,
   "id": "f00dc9d6",
   "metadata": {},
   "outputs": [],
   "source": [
    "## run this cell first to import all the necessary tools\n",
    "import numpy as np\n",
    "from scipy import integrate, stats\n",
    "from matplotlib import pyplot as plt"
   ]
  },
  {
   "cell_type": "markdown",
   "id": "1d5f9795",
   "metadata": {},
   "source": [
    "\n",
    "## Using Real Random Number Generators\n",
    "\n",
    "Here we'll explore the random number generators that are provided by NumPy.  For reference, take a look at the documentation [here](https://numpy.org/doc/stable/reference/random/index.html).\n",
    "\n",
    "NumPy uses by default the 64-bit Permuted congruential generator (PCG64) that we described briefly in class.\n",
    "\n",
    "# Problem 1\n",
    "## Random Samples from Gaussian Distributions\n",
    "### Part A)"
   ]
  },
  {
   "cell_type": "markdown",
   "id": "e318e2ea",
   "metadata": {},
   "source": [
    "Write a function `averages(in_array)` in the cell below which accepts a NumPy array and computes the mean, median, and standard deviation of the list of numbers.  Your function should use either the `numpy` or `scipy.stats` built-in tools."
   ]
  },
  {
   "cell_type": "code",
   "execution_count": 13,
   "id": "a92773c6",
   "metadata": {},
   "outputs": [],
   "source": [
    "def averages(in_array):\n",
    "    '''\n",
    "    Prints the mean, median, and standard deviation of a 1D NumPy array\n",
    "        \n",
    "    PARAMETERS:\n",
    "        in_array - 1D NumPy Array\n",
    "    \n",
    "    RETURN VALUE:\n",
    "        None\n",
    "    '''\n",
    "    \n",
    "    # ??? Put your solution here ???\n",
    "    mean = np.mean(in_array)\n",
    "    median = np.median(in_array)\n",
    "    standard_deviation = np.std(in_array)\n",
    "    \n",
    "    print(f'Mean={mean:.3f}, Median={median:.3f}, Standard Deviation={standard_deviation:.3f}.')\n",
    "    ## Note: this is an example of a formatted string literal, one way printing output strings in Python\n",
    "    ## The \":.3f\" controls how many decimal places are displayed\n",
    "    ## Check out https://docs.python.org/3/tutorial/inputoutput.html\n",
    "    \n",
    "    return None"
   ]
  },
  {
   "cell_type": "markdown",
   "id": "0180939d",
   "metadata": {},
   "source": [
    "### Part B)"
   ]
  },
  {
   "cell_type": "markdown",
   "id": "e5d5566f",
   "metadata": {},
   "source": [
    "Below we have provided an example of how to create an **instance** of a NumPy random number generator.  In this case, the instance is a copy of the random number generator using a given seed.  \n",
    "\n",
    "Using the RNG instance below, generate 10,000 random numbers from a Gaussian distribution with a given width $\\sigma$ and mean $\\mu$ in the cell below.  Using your funcion `averages(in_array)` from above, do you recover the expected values?"
   ]
  },
  {
   "cell_type": "code",
   "execution_count": 145,
   "id": "f61c62cd",
   "metadata": {},
   "outputs": [
    {
     "name": "stdout",
     "output_type": "stream",
     "text": [
      "Mean=0.002, Median=0.006, Standard Deviation=1.005.\n",
      "None\n"
     ]
    }
   ],
   "source": [
    "seed = 12345\n",
    "rng = np.random.default_rng(seed)\n",
    "\n",
    "sigma = 0\n",
    "mu = 1\n",
    "my_array = rng.normal(sigma, mu, 10000)\n",
    "\n",
    "print(averages(my_array))\n",
    "\n",
    "# ??? A solution is required here ???"
   ]
  },
  {
   "cell_type": "markdown",
   "id": "2164d3f6",
   "metadata": {},
   "source": [
    "# Problem 2\n",
    "## Integration in SciPy\n",
    "\n",
    "Here we'll familiarize ourselves with some of the integration tools available in SciPy (you've already implemented the Simpsons rule in HW02).  In SciPy, integrators are broken down into two types:\n",
    "\n",
    "* Sample Integrators -- Where you pass the integrator samples you've generated (xs and ys)\n",
    "* Function Integrators -- Where you pass the integrator a **function** (the integrand) and the integrator figures out the samples for itself \n",
    "\n",
    "See the documentation [here](https://docs.scipy.org/doc/scipy/tutorial/integrate.html#) for more info.  We're going to focus on the function integrators in this studio"
   ]
  },
  {
   "cell_type": "markdown",
   "id": "4238619b",
   "metadata": {},
   "source": [
    "### Part A)  \n",
    "\n",
    "Let's take a simple example:\n",
    "\n",
    "$$ \\int^{2\\pi}_0 x^2\\cos(x)dx $$\n",
    "\n",
    "Using the cell below, write the integrand of this function as a Python function, and integrate it"
   ]
  },
  {
   "cell_type": "code",
   "execution_count": 147,
   "id": "e2537710",
   "metadata": {},
   "outputs": [],
   "source": [
    "def func_integrand(x):\n",
    "    '''\n",
    "    The integrand of the x^2 cos(3x)\n",
    "        \n",
    "    PARAMETERS:\n",
    "        x - Real Number\n",
    "    \n",
    "    RETURN VALUE:\n",
    "        Value of Integrand\n",
    "    '''\n",
    "\n",
    "    # ??? Put your solution here ???\n",
    "    pi = np.pi\n",
    "    integrand = x**2 * np.cos(3*x) #enter the equation\n",
    "    return integrand\n"
   ]
  },
  {
   "cell_type": "code",
   "execution_count": 139,
   "id": "6f38f366",
   "metadata": {},
   "outputs": [
    {
     "name": "stdout",
     "output_type": "stream",
     "text": [
      "Scipy Answer, Error (1.3962634015954714, 8.464575568245536e-11)\n",
      "True Value 1.3962634015954636\n"
     ]
    }
   ],
   "source": [
    "# ??? Put your integration call to integrate.quad here ???\n",
    "pi = np.pi\n",
    "our_array = integrate.quad(func_integrand,0,2*pi)\n",
    "print(\"Scipy Answer, Error\", our_array)\n",
    "#first number is the answer, and the second answer is the error\n",
    "true_val = 4*pi/9\n",
    "print(\"True Value\", true_val)"
   ]
  },
  {
   "cell_type": "markdown",
   "id": "20645a33",
   "metadata": {},
   "source": [
    "Does your result agree with the true value?  Does the difference seem to agree with the error provided by SciPy?\n",
    "\n",
    "**Yes! The true value is 4pi/9 which is approximately 1.39 so the values do agree. However, since there is error with the SciPy value, they can't be exactly the same. **"
   ]
  },
  {
   "cell_type": "markdown",
   "id": "3987fc9f",
   "metadata": {},
   "source": [
    "### Part B)  \n",
    "\n",
    "Let's take a slightly harder example; the Gamma function:\n",
    "\n",
    "$$ \\Gamma(n) = \\int^\\infty_0 x^{n-1}e^{-x}dx $$\n",
    "\n",
    "Using the cell below, write the integrand of the Gamma function as a Python function, and integrate the Gamma function for values of $n$ from 1-10 (just use a Python Loop).\n",
    "\n",
    "**Hint 1:** The quad function *will* integrate functions to infinity if you pass the right bounds (see the documentation).  \n",
    "\n",
    "**Hint 2:** An integrand should only depend on 1 number ($x$), and Python will complain if you pass a function with more than one input.  However, if you pass `args={}` to the `quad` function, it will integrate over the first input, and pass the values from `args` to the next inputs in the function"
   ]
  },
  {
   "cell_type": "code",
   "execution_count": 103,
   "id": "17dca2d2",
   "metadata": {},
   "outputs": [],
   "source": [
    "def gamma5_integrand(x,n):\n",
    "    '''\n",
    "    The integrand of the Gamma function, x^(n-1)e^(-x)\n",
    "        \n",
    "    PARAMETERS:\n",
    "        x - Real Number\n",
    "    \n",
    "    RETURN VALUE:\n",
    "        Value of Integrand\n",
    "    '''\n",
    "    \n",
    "    # ??? Put your solution here ???\n",
    "\n",
    "    pi = np.pi\n",
    "    integrand = x**(n-1) * np.e**(-x)\n",
    "    \n",
    "    return integrand"
   ]
  },
  {
   "cell_type": "code",
   "execution_count": 141,
   "id": "24409970",
   "metadata": {},
   "outputs": [
    {
     "name": "stdout",
     "output_type": "stream",
     "text": [
      "Scipy Answer, Error (1.0000000000000002, 5.842606672514919e-11)\n",
      "Scipy Answer, Error (0.9999999999999998, 5.901456886290814e-10)\n",
      "Scipy Answer, Error (2.000000000000001, 1.0454264458366824e-10)\n",
      "Scipy Answer, Error (6.000000000000002, 2.9915234067249667e-09)\n",
      "Scipy Answer, Error (24.000000000000004, 8.43464853988451e-09)\n",
      "Scipy Answer, Error (120.00000000000003, 2.2281813306257057e-07)\n",
      "Scipy Answer, Error (720.0000000000003, 5.342938626231621e-06)\n",
      "Scipy Answer, Error (5040.000000000003, 3.949021984674852e-05)\n",
      "Scipy Answer, Error (40320.00000000002, 0.00035019726544392726)\n",
      "Scipy Answer, Error (362880.0000000001, 0.004164647598226875)\n"
     ]
    }
   ],
   "source": [
    "# ??? Put your integration call to integrate.quad here ???\n",
    "\n",
    "for n in range(1,11):\n",
    "    result = integrate.quad(gamma5_integrand, 0, np.inf,args = n)\n",
    "    print(\"Scipy Answer, Error\",result)\n",
    "\n",
    "\n",
    "#first number is the answer, and the second answer is the error\n",
    "#These values agree with the true value of the function."
   ]
  },
  {
   "cell_type": "code",
   "execution_count": null,
   "id": "ec5c3841-9327-4068-939b-e5d40df0564e",
   "metadata": {},
   "outputs": [],
   "source": []
  }
 ],
 "metadata": {
  "kernelspec": {
   "display_name": "Python 3 (ipykernel)",
   "language": "python",
   "name": "python3"
  },
  "language_info": {
   "codemirror_mode": {
    "name": "ipython",
    "version": 3
   },
   "file_extension": ".py",
   "mimetype": "text/x-python",
   "name": "python",
   "nbconvert_exporter": "python",
   "pygments_lexer": "ipython3",
   "version": "3.12.4"
  }
 },
 "nbformat": 4,
 "nbformat_minor": 5
}
