{
 "cells": [
  {
   "cell_type": "markdown",
   "id": "e0b88a52",
   "metadata": {},
   "source": [
    "# Studio 5 -- Vector-Matrix Operations and Decompositions in NumPy\n",
    "## Put your group number and the full names of you and your groupmates here:\n",
    "### Group: #9\n",
    "- 1 -- Hannah James\n",
    "- 2 -- Victorya Hunanyan\n",
    "- 3 -- Victor Nguyen\n",
    "\n"
   ]
  },
  {
   "cell_type": "code",
   "execution_count": 3,
   "id": "f00dc9d6",
   "metadata": {},
   "outputs": [],
   "source": [
    "## run this cell first to import all the necessary tools\n",
    "import numpy as np\n",
    "from matplotlib import pyplot as plt\n",
    "from scipy import linalg"
   ]
  },
  {
   "cell_type": "markdown",
   "id": "1d5f9795",
   "metadata": {},
   "source": [
    "# Problem 1\n",
    "\n",
    "## Vectors, Matricies, and Systems of Equations in NumPy/SciPy"
   ]
  },
  {
   "cell_type": "markdown",
   "id": "e318e2ea",
   "metadata": {},
   "source": [
    "As with most other things in studio, we'll be using NumPy and SciPy for our vector and matrix operations.  The basic way of defining a vector in NumPy is just as a 1D array, while a matrix is just a 2D array (that is, a NumPy array with two indicies).\n",
    "\n",
    "We will use the SciPy `linalg` routine, since it is more complete (see [here](https://docs.scipy.org/doc/scipy/tutorial/linalg.html) for a more complete description of the differences).  The complete list of `linalg` routines is available [here](https://docs.scipy.org/doc/scipy/reference/linalg.html).  As you can see, it's quite extensive\n",
    "\n",
    "For these problems, we'll use the following 8x8 matrix and 8x1 vector:\n",
    "\n",
    "$$\\mathbf{A} = \\begin{bmatrix}  -8 & 0 & -3 & -6 & 0 & -3 & -5 & -4 & -8 & -9\\\\  -3 & -8 & -2 & -4 & -5 & -1 & 2 & 7 & 6 & 3\\\\  7 & 8 & 1 & 9 & 8 & 1 & 9 & 6 & -6 & 5\\\\  1 & -9 & 8 & 6 & 7 & -4 & -9 & -4 & -3 & -8\\\\  5 & -3 & -9 & -8 & -2 & -6 & 3 & -8 & 1 & -4\\\\  0 & -6 & -4 & -7 & -8 & -7 & -4 & 1 & -3 & 1\\\\  0 & 0 & 9 & -5 & -7 & 0 & -3 & 2 & -7 & 7\\\\  -2 & -4 & 8 & -9 & -9 & 0 & 2 & -4 & 4 & 9\\\\  7 & 7 & -1 & -2 & 7 & -4 & -3 & -1 & 1 & -2\\\\  -1 & -4 & -5 & -3 & -1 & -5 & 0 & -5 & -3 & 1\\\\\\end{bmatrix},~~~~\\vec{b}=\\begin{bmatrix} -3\\\\4\\\\-4\\\\-4\\\\-3\\\\2\\\\-8\\\\6\\\\5\\\\-1\\\\\\end{bmatrix}$$\n",
    "\n",
    "I've written these below"
   ]
  },
  {
   "cell_type": "code",
   "execution_count": 6,
   "id": "efe48670",
   "metadata": {},
   "outputs": [],
   "source": [
    "A = np.array([[-8,  0, -3, -6,  0, -3, -5, -4, -8, -9],\n",
    "       [-3, -8, -2, -4, -5, -1,  2,  7,  6,  3],\n",
    "       [ 7,  8,  1,  9,  8,  1,  9,  6, -6,  5],\n",
    "       [ 1, -9,  8,  6,  7, -4, -9, -4, -3, -8],\n",
    "       [ 5, -3, -9, -8, -2, -6,  3, -8,  1, -4],\n",
    "       [ 0, -6, -4, -7, -8, -7, -4,  1, -3,  1],\n",
    "       [ 0,  0,  9, -5, -7,  0, -3,  2, -7,  7],\n",
    "       [-2, -4,  8, -9, -9,  0,  2, -4,  4,  9],\n",
    "       [ 7,  7, -1, -2,  7, -4, -3, -1,  1, -2],\n",
    "       [-1, -4, -5, -3, -1, -5,  0, -5, -3,  1]])\n",
    "\n",
    "b = np.array([-3,  4, -4, -4, -3,  2, -8,  6,  5, -1])"
   ]
  },
  {
   "cell_type": "markdown",
   "id": "4f9cd12c",
   "metadata": {},
   "source": [
    "**NOTE** Confusingly, both NumPy and SciPy have a version of the `linalg` package, and they are not the same.  We will only use the SciPy one here (for the most part, it contains everything the NumPy one does, as well as several additional functions).  Also, you will see some of the older documentation contrasts between a NumPy array and and NumPy `matrix` type.  **Do not use the NumPy matrix type**.  It is considered outdated and no longer used; 2D NumPy arrays are the way to go."
   ]
  },
  {
   "cell_type": "markdown",
   "id": "c85003cd",
   "metadata": {},
   "source": [
    "## Part A)"
   ]
  },
  {
   "cell_type": "markdown",
   "id": "63907f7e",
   "metadata": {},
   "source": [
    "Let's warm up with some simple vector-matrix operations.  As you can see from the [https://docs.scipy.org/doc/scipy/reference/linalg.html](list of functions), `linalg` had just about everything we could need.\n",
    " It also has two useful shortcuts:\n",
    " \n",
    "- `@` -- is a shortcut for basically all matrix multiplication (used the same way `*` is).  It does inner products, matrix-vector products, matrix-matrix products, etc.   \n",
    "- `.T` -- Returns the transpose of a matrix.  This is a method to the NumPy array itself, so if I call `A.T`, it returns a copy of `A` with the rows and columns swapped \n",
    "\n",
    "First, compute:\n",
    "\n",
    "- $\\vec{b}\\cdot\\vec{b}$\n",
    "- $\\mathbf{A}\\cdot\\vec{b}$\n",
    "- $(\\mathbf{A}^3)^T$ \n",
    "\n",
    "using these built-in functions.  "
   ]
  },
  {
   "cell_type": "code",
   "execution_count": 19,
   "id": "d919826d",
   "metadata": {},
   "outputs": [
    {
     "name": "stdout",
     "output_type": "stream",
     "text": [
      "b*b: 196\n",
      "A*b: [  39   67 -122  -83  -28   52   -1   -8   15  -34]\n",
      "(A^3)^T: [[  434   -26   455   -36   -52   912  -447 -1791  -130   254]\n",
      " [-1957   -64  5131 -3517 -1407 -2075 -2922 -5052   980 -1185]\n",
      " [ 1754 -1396    25  -272  -518   134  1881   537  -104   -93]\n",
      " [-2516    64  4483 -1567  -711  -868 -1693 -3483  -798  -262]\n",
      " [-1495   145  2428   -87 -1497 -1035 -2361 -3536  -834  -333]\n",
      " [-2188  -603  3489 -2052    57 -1536 -1248 -1961   907  -580]\n",
      " [-2452   957  2516 -2262   192  -564 -1013  -897  -308  -696]\n",
      " [ -564  1171  1188 -1538  1338   827  -515  -763   199   231]\n",
      " [ -624  -633  -490  -610  2210   290  -888  -156  1295   527]\n",
      " [  650   605  1221 -3886   695   939  1739   810   116  -422]]\n"
     ]
    }
   ],
   "source": [
    "## Put answer here\n",
    "multiply1 = b@b\n",
    "print(\"b*b:\", multiply1)\n",
    "multiply2 = A@b\n",
    "print(\"A*b:\", multiply2)\n",
    "multiply3 = (A@A@A).T\n",
    "print(\"(A^3)^T:\", multiply3)"
   ]
  },
  {
   "cell_type": "markdown",
   "id": "30d91ffd",
   "metadata": {},
   "source": [
    "## Part B)\n",
    "\n",
    "Of course, all of these commands also work with `*` and `**` (the regular NumPy multiplication and exponential symbols).  Try them below for $\\mathbf{A}\\cdot\\vec{b}$ and $(\\mathbf{A}^3)^T$ .  Does the shape of $\\mathbf{A}\\cdot\\vec{b}$ make as a matrix-vector operation?  What is actually being computing here?"
   ]
  },
  {
   "cell_type": "code",
   "execution_count": 29,
   "id": "f4bcb5fe",
   "metadata": {},
   "outputs": [
    {
     "name": "stdout",
     "output_type": "stream",
     "text": [
      "A*b: [[ 24   0  12  24   0  -6  40 -24 -40   9]\n",
      " [  9 -32   8  16  15  -2 -16  42  30  -3]\n",
      " [-21  32  -4 -36 -24   2 -72  36 -30  -5]\n",
      " [ -3 -36 -32 -24 -21  -8  72 -24 -15   8]\n",
      " [-15 -12  36  32   6 -12 -24 -48   5   4]\n",
      " [  0 -24  16  28  24 -14  32   6 -15  -1]\n",
      " [  0   0 -36  20  21   0  24  12 -35  -7]\n",
      " [  6 -16 -32  36  27   0 -16 -24  20  -9]\n",
      " [-21  28   4   8 -21  -8  24  -6   5   2]\n",
      " [  3 -16  20  12   3 -10   0 -30 -15  -1]]\n",
      "(A^3)^T: [[-512  -27  343    1  125    0    0   -8  343   -1]\n",
      " [   0 -512  512 -729  -27 -216    0  -64  343  -64]\n",
      " [ -27   -8    1  512 -729  -64  729  512   -1 -125]\n",
      " [-216  -64  729  216 -512 -343 -125 -729   -8  -27]\n",
      " [   0 -125  512  343   -8 -512 -343 -729  343   -1]\n",
      " [ -27   -1    1  -64 -216 -343    0    0  -64 -125]\n",
      " [-125    8  729 -729   27  -64  -27    8  -27    0]\n",
      " [ -64  343  216  -64 -512    1    8  -64   -1 -125]\n",
      " [-512  216 -216  -27    1  -27 -343   64    1  -27]\n",
      " [-729   27  125 -512  -64    1  343  729   -8    1]]\n"
     ]
    }
   ],
   "source": [
    "## Put answer here\n",
    "numpymultiply1 = A*b\n",
    "print(\"A*b:\", numpymultiply1)\n",
    "numpymultiply2 = (A**3).T\n",
    "print(\"(A^3)^T:\", numpymultiply2)"
   ]
  },
  {
   "cell_type": "markdown",
   "id": "8e4bf59e",
   "metadata": {},
   "source": [
    "###The shape is different for the for A*b for part(a) and part(b) since in part(a), the dot product of the matrix is being calculated. Therefore, we receive scalar results. Part(b) only does the multiplication aspect, but doesn't add them as done in a dot product."
   ]
  },
  {
   "cell_type": "markdown",
   "id": "2e814aa1",
   "metadata": {},
   "source": [
    "## Part C)\n",
    "\n",
    "One of the main goals of linear algebra is solving systems of equations, i.e., solving for $\\vec{x}$ in \n",
    "\n",
    "$$\\mathbf{A}\\cdot\\vec{x}=\\vec{b}$$\n",
    "\n",
    "Use the `linalg` package to compute the inverse of $\\mathbf{A}$.  Check that $\\mathbf{A}^{-1}\\mathbf{A}=\\mathbf{I}$, then use $\\mathbf{A}^{-1}$ and $\\vec{b}$ to compute $\\vec{x}$.\n",
    "\n",
    "**Hint:** to eliminate floating point numbers that are close to zero (i.e. the 1e-16 stuff) try adding `.round(12)` to the end of your identity matrix "
   ]
  },
  {
   "cell_type": "code",
   "execution_count": 56,
   "id": "8ac7dab3",
   "metadata": {},
   "outputs": [
    {
     "name": "stdout",
     "output_type": "stream",
     "text": [
      "identity matrix: [[ 1.  0.  0. -0.  0.  0.  0. -0. -0.  0.]\n",
      " [ 0.  1. -0. -0. -0. -0.  0. -0.  0.  0.]\n",
      " [ 0.  0.  1.  0.  0. -0.  0. -0.  0. -0.]\n",
      " [-0. -0. -0.  1. -0. -0.  0.  0.  0.  0.]\n",
      " [ 0.  0.  0. -0.  1.  0. -0.  0. -0. -0.]\n",
      " [ 0.  0.  0.  0.  0.  1.  0.  0. -0.  0.]\n",
      " [ 0. -0. -0. -0. -0. -0.  1. -0.  0.  0.]\n",
      " [ 0.  0.  0.  0.  0.  0.  0.  1.  0.  0.]\n",
      " [ 0.  0. -0.  0.  0. -0.  0. -0.  1. -0.]\n",
      " [-0.  0.  0. -0.  0.  0. -0.  0. -0.  1.]]\n",
      "x = [-1.41411334  1.63117822  0.76950789  1.26254513 -1.03441597 -3.28151114\n",
      "  0.4787199   0.01134798  1.78827917 -0.2746199 ]\n"
     ]
    }
   ],
   "source": [
    "## Put answer here\n",
    "inverse = np.linalg.inv(A)\n",
    "I = inverse @ A\n",
    "print(\"identity matrix:\", I.round(12))\n",
    "x = inverse @ b\n",
    "print(\"x =\", x)"
   ]
  },
  {
   "cell_type": "markdown",
   "id": "3fbc5c3b",
   "metadata": {},
   "source": [
    "# Problem 2\n",
    "\n",
    "## Recursive Determinants\n",
    "\n",
    "As we discussed in lecture, one easy way to compute the determinant from the permutation-based definition is to just expand along the top row, and recursively compute the determinant of the minor matrix from every element (see page 14 of the Lecture 15 notes).  \n",
    "\n",
    "I have provided below the template of an algorithm for computing the determinant.  For an nxn matrix, it takes the 2D NumPy array matrix and n as inputs, and computes the determinant **recursively**.\n",
    "\n",
    "## Part a)\n",
    "\n",
    "Fill in the two missing lines of code that calculate the determinant in the case of a 2x2 matrix, and in the case where you need to recursively calculate the determinant.\n"
   ]
  },
  {
   "cell_type": "code",
   "execution_count": 100,
   "id": "9030a96e",
   "metadata": {},
   "outputs": [],
   "source": [
    "def recursive_determinant(matrix,n):\n",
    "    '''\n",
    "    Recursively compute the determinant of an nxn matrix\n",
    "        \n",
    "    PARAMETERS:\n",
    "        matrix - nxn 2D NumPy array\n",
    "        n      - size of one axis of the matrix\n",
    "    \n",
    "    RETURN VALUE:\n",
    "        Determinant\n",
    "    '''\n",
    "\n",
    "    det = 0\n",
    "    \n",
    "    if n == 2:\n",
    "        det = matrix[0,0] * matrix [1,1] - matrix[0,1] * matrix[1,0]\n",
    "    else:\n",
    "        for i in range(n):\n",
    "            \n",
    "            ## This line deletes the top row from the matrix\n",
    "            submatrix = np.delete(matrix,(0),axis=0)\n",
    "            ## This line deletes the ith column from the matrix.\n",
    "            submatrix = np.delete(submatrix,(i),axis=1)\n",
    "            ## submatrix is then just matrix without the 0th row and the ith column\n",
    "            \n",
    "            det += ((-1) ** i) * matrix[0,i] * recursive_determinant(submatrix, n-1)\n",
    "            \n",
    "    return det\n",
    "            "
   ]
  },
  {
   "cell_type": "markdown",
   "id": "ab508c01",
   "metadata": {},
   "source": [
    "## Part B)\n",
    "\n",
    "Create an arbitrary 3x3 matrix, and test your recursive function on it. Does it give you the correct determinant?"
   ]
  },
  {
   "cell_type": "code",
   "execution_count": 127,
   "id": "e51dc5e9-06d4-4112-baec-bdf8444b0dbd",
   "metadata": {},
   "outputs": [
    {
     "name": "stdout",
     "output_type": "stream",
     "text": [
      "recursive function: -78\n",
      "linalg.det: -78.0\n"
     ]
    }
   ],
   "source": [
    "#PUT CODE HERE\n",
    "example = np.array([[1,1,5],[2,4,2],[6,3,3]])\n",
    "my_recursive = recursive_determinant(example, 3)\n",
    "print(\"recursive function:\", my_recursive)\n",
    "\n",
    "recursive = np.linalg.det(example)\n",
    "print(\"linalg.det:\",recursive)"
   ]
  },
  {
   "cell_type": "markdown",
   "id": "91f5c712-f037-4f19-b83f-01c674e1550d",
   "metadata": {},
   "source": [
    "## Part C)\n",
    "\n",
    "Run your recursive function on the previous matrix $\\mathbf{A}$.  Compare that to the value you get from the `linalg.det` function.  Do they agree?"
   ]
  },
  {
   "cell_type": "code",
   "execution_count": 126,
   "id": "1149c73d",
   "metadata": {},
   "outputs": [
    {
     "name": "stdout",
     "output_type": "stream",
     "text": [
      "recursive function: -12882716025\n",
      "linalg.det: -12882716024.999979\n"
     ]
    }
   ],
   "source": [
    "## PUT CODE HERE\n",
    "my_recursive = recursive_determinant(A, 10)\n",
    "print(\"recursive function:\", my_recursive)\n",
    "recursive2 = np.linalg.det(A)\n",
    "print(\"linalg.det:\",recursive2)"
   ]
  },
  {
   "cell_type": "markdown",
   "id": "5f1b121c",
   "metadata": {},
   "source": [
    "# Problem 3\n",
    "\n",
    "## Rotation Matricies\n",
    "\n",
    "In 2D, I can rotate a vector by an angle $\\theta$ by hitting it with a matrix\n",
    "\n",
    "$$\\mathbf{R} = \\begin{pmatrix}\\cos\\theta & -\\sin\\theta \\\\\\sin\\theta & \\cos\\theta \\end{pmatrix}$$"
   ]
  },
  {
   "cell_type": "markdown",
   "id": "a15868d7",
   "metadata": {},
   "source": [
    "## Part A)\n",
    "\n",
    "With $\\theta=42^{\\circ}$ and $\\vec{x}=\\begin{pmatrix}1\\\\0\\end{pmatrix}$, define both $\\mathbf{R}$ and $\\vec{x}$ as NumPy arrays, compute $$\\mathbf{R}\\vec{x}$$\n",
    "\n",
    "Plot as arrows (using the [arrow-style](https://matplotlib.org/stable/api/_as_gen/matplotlib.pyplot.arrow.html) plot in matplotlib) both $\\vec{x}$ and $\\mathbf{R}\\vec{x}$ (in blue and red respectively).  Does this give you the expected behaivor?"
   ]
  },
  {
   "cell_type": "code",
   "execution_count": 192,
   "id": "0c3764b5",
   "metadata": {},
   "outputs": [
    {
     "data": {
      "image/png": "[encoded data removed]",
      "text/plain": [
       "<Figure size 640x480 with 1 Axes>"
      ]
     },
     "metadata": {},
     "output_type": "display_data"
    }
   ],
   "source": [
    "## PUT ANSWER HERE\n",
    "R = np.array([[np.cos(0.73), -np.sin(0.73)], [np.sin(0.73), np.cos(0.73)]])\n",
    "x = np.array([1,0])\n",
    "y = R@x\n",
    "plt.arrow(0,0, y[0], y[1], color = \"r\")\n",
    "plt.arrow(0,0, x[0],x[1], color = \"b\")\n",
    "plt.show()\n",
    "#Yes, this graph gives us the expected behavior!"
   ]
  },
  {
   "cell_type": "markdown",
   "id": "5ac7555c",
   "metadata": {},
   "source": [
    "## Part B)\n",
    "\n",
    "Do the same thing, but this time use the inverse of $\\mathbf{R}$ as your matrix (i.e. plot $\\vec{x}$ and $\\mathbf{R}^{-1}\\vec{x}$).  What angle is this rotating by, and does this make sense? "
   ]
  },
  {
   "cell_type": "code",
   "execution_count": 195,
   "id": "eb14056a",
   "metadata": {},
   "outputs": [
    {
     "name": "stdout",
     "output_type": "stream",
     "text": [
      "[[ 0.7451744   0.66686964]\n",
      " [-0.66686964  0.7451744 ]]\n"
     ]
    },
    {
     "data": {
      "text/plain": [
       "<matplotlib.patches.FancyArrow at 0x131e24440>"
      ]
     },
     "execution_count": 195,
     "metadata": {},
     "output_type": "execute_result"
    },
    {
     "data": {
      "image/png": "[encoded data removed]",
      "text/plain": [
       "<Figure size 640x480 with 1 Axes>"
      ]
     },
     "metadata": {},
     "output_type": "display_data"
    }
   ],
   "source": [
    "## PUT ANSWER HERE\n",
    "inverseR = np.linalg.inv(R)\n",
    "print(inverseR)\n",
    "y2 = inverseR @ x\n",
    "plt.arrow(0,0, y2[0], y2[1], color = \"r\")\n",
    "plt.arrow(0,0, x[0], x[1], color = \"b\")\n",
    "#This function is rotating by the angle of 0, since it simply offsets what we've already done."
   ]
  },
  {
   "cell_type": "code",
   "execution_count": null,
   "id": "c811c9f9-df31-4ecb-85c0-5bf98aba0323",
   "metadata": {},
   "outputs": [],
   "source": []
  }
 ],
 "metadata": {
  "kernelspec": {
   "display_name": "Python 3 (ipykernel)",
   "language": "python",
   "name": "python3"
  },
  "language_info": {
   "codemirror_mode": {
    "name": "ipython",
    "version": 3
   },
   "file_extension": ".py",
   "mimetype": "text/x-python",
   "name": "python",
   "nbconvert_exporter": "python",
   "pygments_lexer": "ipython3",
   "version": "3.12.4"
  }
 },
 "nbformat": 4,
 "nbformat_minor": 5
}
