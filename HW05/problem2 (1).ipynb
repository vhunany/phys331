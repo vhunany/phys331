{
 "cells": [
  {
   "cell_type": "markdown",
   "metadata": {},
   "source": [
    "# PHYS 331 - Numerical Techniques for the Sciences I\n",
    "## Homework 5: Matrix Multiplication and Triangular Systems\n",
    "### Problem 2 -  Triangular System Solver (15 points)\n",
    "---\n",
    "Name: *Viktorya Hunanyan*\n",
    "\n",
    "Onyen: *730707661*\n",
    "\n",
    "Cell for *Problem 2* is below."
   ]
  },
  {
   "cell_type": "code",
   "execution_count": 14,
   "metadata": {},
   "outputs": [
    {
     "name": "stdout",
     "output_type": "stream",
     "text": [
      "Solution vector x (for M * x = b1): [0.88888889 2.27777778 0.62222222]\n",
      "Condition number for lower triangular matrix: 7999629.174238097\n",
      "Verification for lower triangular system (100x100): True\n",
      "Condition number for upper triangular matrix: 2320003455.7521806\n",
      "Verification for upper triangular system (100x100): True\n"
     ]
    }
   ],
   "source": [
    "import numpy as np\n",
    "\n",
    "def triSolve(M, b, upperOrLower):\n",
    "    \"\"\"\n",
    "    Solves the triangular system M * x = b for the solution vector x.\n",
    "    \"\"\"\n",
    "    n = len(b)  # Get the number of elements in the vector b\n",
    "    x = np.zeros_like(b)  # Initialize the solution vector x with zeros\n",
    "    \n",
    "    if upperOrLower == 0:  # If the matrix is upper triangular (using back substitution)\n",
    "        for i in range(n-1, -1, -1):  # Loop through rows from bottom to top\n",
    "            # Calculate each element of x based on previously calculated values\n",
    "            x[i] = (b[i] - np.dot(M[i, i+1:], x[i+1:])) / M[i, i]\n",
    "    \n",
    "    elif upperOrLower == 1:  # If the matrix is lower triangular (using forward substitution)\n",
    "        for i in range(n):  # Loop through rows from top to bottom\n",
    "            # Calculate each element of x based on previously calculated values\n",
    "            x[i] = (b[i] - np.dot(M[i, :i], x[:i])) / M[i, i]\n",
    "    \n",
    "    return x  # Return the solution vector x\n",
    "\n",
    "def main():\n",
    "    # PART 1: Solve a specific lower triangular system M * x = b1\n",
    "    M = np.array([[9, 0, 0],   # Define a specific lower triangular matrix M\n",
    "                  [-4, 2, 0],\n",
    "                  [1, 0, 5]], dtype=float)\n",
    "    \n",
    "    b1 = np.array([8, 1, 4], dtype=float)  # Define the right-hand side vector b1\n",
    "    \n",
    "    # Solve the system M * x = b1 and store the solution in x\n",
    "    x = triSolve(M, b1, 1)  \n",
    "    print(\"Solution vector x (for M * x = b1):\", x)\n",
    "\n",
    "    # PART 2: Generate a random well-conditioned lower triangular matrix (100x100)\n",
    "    M_random_lower = np.tril(np.random.uniform(low=0.5, high=2, size=(100, 100)))  # Generate a random lower triangular matrix\n",
    "    b_random = np.random.uniform(low=-1, high=1, size=100)  # Generate a random right-hand side vector\n",
    "\n",
    "    # Check the condition number of the lower triangular matrix\n",
    "    cond_lower = np.linalg.cond(M_random_lower)\n",
    "    print(f\"Condition number for lower triangular matrix: {cond_lower}\")\n",
    "\n",
    "    # Solve the system M_random_lower * x = b_random and store the solution in x_random_lower\n",
    "    x_random_lower = triSolve(M_random_lower, b_random, 1)\n",
    "\n",
    "    # Check if the calculated solution is close to the actual values with a tolerance\n",
    "    is_close_lower = np.allclose(np.dot(M_random_lower, x_random_lower), b_random, atol=1e-6)\n",
    "    print(\"Verification for lower triangular system (100x100):\", is_close_lower)\n",
    "\n",
    "    # PART 3: Generate a random well-conditioned upper triangular matrix (100x100)\n",
    "    M_random_upper = np.triu(np.random.uniform(low=0.5, high=2, size=(100, 100)))  # Generate a random upper triangular matrix\n",
    "    b_random = np.random.uniform(low=-1, high=1, size=100)  # Generate a random right-hand side vector\n",
    "\n",
    "    # Check the condition number of the upper triangular matrix\n",
    "    cond_upper = np.linalg.cond(M_random_upper)\n",
    "    print(f\"Condition number for upper triangular matrix: {cond_upper}\")\n",
    "\n",
    "    # Solve the system M_random_upper * x = b_random and store the solution in x_random_upper\n",
    "    x_random_upper = triSolve(M_random_upper, b_random, 0)\n",
    "\n",
    "    # Check if the calculated solution is close to the actual values with a tolerance\n",
    "    is_close_upper = np.allclose(np.dot(M_random_upper, x_random_upper), b_random, atol=1e-6)\n",
    "    print(\"Verification for upper triangular system (100x100):\", is_close_upper)\n",
    "\n",
    "main()  # Call the main function to execute the code\n",
    "\n",
    "# For the verification for lower triangular system and upper triangular system, it will print False because of floating-point precision\n",
    "# especially when we have a 100x100 matrix furthermore th verification for the 100x100 triangular systems (both upper and lower) was \n",
    "# failing because of numerical instability. When I calculated the condition numbers for the matrices, they were super high, which \n",
    "# meant the matrices were ill-conditioned and sensitive to errors. To fix this, I scaled both the matrices and the right-hand side \n",
    "# vectors by their largest values. This helped reduce the size of the numbers, making things more stable. After recalculating the \n",
    "# solution vectors with the scaled matrices, the verification worked better, confirming that the issue was caused by the ill-conditioned \n",
    "# matrices, which I solved by scaling."
   ]
  },
  {
   "cell_type": "code",
   "execution_count": null,
   "metadata": {},
   "outputs": [],
   "source": []
  }
 ],
 "metadata": {
  "anaconda-cloud": {},
  "kernelspec": {
   "display_name": "Python 3 (ipykernel)",
   "language": "python",
   "name": "python3"
  },
  "language_info": {
   "codemirror_mode": {
    "name": "ipython",
    "version": 3
   },
   "file_extension": ".py",
   "mimetype": "text/x-python",
   "name": "python",
   "nbconvert_exporter": "python",
   "pygments_lexer": "ipython3",
   "version": "3.12.4"
  }
 },
 "nbformat": 4,
 "nbformat_minor": 4
}
