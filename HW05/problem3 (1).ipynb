{
 "cells": [
  {
   "cell_type": "markdown",
   "metadata": {},
   "source": [
    "# PHYS 331 - Numerical Techniques for the Sciences I\n",
    "## Homework 5: Matrix Multiplication and Triangular Systems\n",
    "### Problem 3 -  Triangular Matrix Inverter (10 points)\n",
    "---\n",
    "Name: *Viktorya Hunanyan*\n",
    "\n",
    "Onyen: *730707661*\n",
    "\n",
    "Cell for *Problem 3* is below."
   ]
  },
  {
   "cell_type": "code",
   "execution_count": 15,
   "metadata": {},
   "outputs": [
    {
     "name": "stdout",
     "output_type": "stream",
     "text": [
      "Inverse of the matrix M:\n",
      " [[ 0.11111111  0.          0.        ]\n",
      " [-0.          0.5         0.        ]\n",
      " [-0.         -0.          0.2       ]]\n"
     ]
    }
   ],
   "source": [
    "import numpy as np\n",
    "\n",
    "def triangleInverse(M, upperOrLower):\n",
    "    \"\"\"\n",
    "    Solves for the inverse of a triangular matrix M.\n",
    "    \n",
    "    PARAMETERS:\n",
    "        M -- A 2-dimensional np.array object representing the triangular matrix.\n",
    "        upperOrLower -- A string, either 'upper' or 'lower', indicating whether\n",
    "                        M is an upper or lower triangular matrix.\n",
    "             \n",
    "    RETURNS:\n",
    "        Minv -- A 2-dimensional np.array representing the inverse of M.\n",
    "    \"\"\"\n",
    "    # Get the number of rows/columns in the matrix M (assuming M is square).\n",
    "    n = M.shape[0]\n",
    "    \n",
    "    # Create an empty matrix of the same size as M to store the inverse.\n",
    "    Minv = np.zeros_like(M)\n",
    "    \n",
    "    # If the matrix is lower triangular (upperOrLower == 'lower'):\n",
    "    if upperOrLower == 'lower':\n",
    "        # Iterate over each row starting from the top (i = 0, 1, 2, ..., n-1).\n",
    "        for i in range(n):\n",
    "            # Invert the diagonal element directly (since the diagonal elements\n",
    "            # of a triangular matrix can be handled separately).\n",
    "            Minv[i, i] = 1 / M[i, i]\n",
    "            \n",
    "            # For all rows below the diagonal (i+1 to n), calculate the values\n",
    "            # in the inverse matrix using forward substitution.\n",
    "            for j in range(i+1, n):\n",
    "                # Perform forward substitution to calculate the inverse elements.\n",
    "                # The formula is derived from solving M*Minv = I, where Minv is the inverse.\n",
    "                Minv[j, i] = -np.dot(M[j, :i], Minv[:i, i]) / M[j, j]\n",
    "    \n",
    "    # If the matrix is upper triangular (upperOrLower == 'upper'):\n",
    "    elif upperOrLower == 'upper':\n",
    "        # Iterate over each row starting from the bottom (i = n-1, n-2, ..., 0).\n",
    "        for i in reversed(range(n)):\n",
    "            # Invert the diagonal element directly.\n",
    "            Minv[i, i] = 1 / M[i, i]\n",
    "            \n",
    "            # For all rows above the diagonal (0 to i-1), calculate the values\n",
    "            # in the inverse matrix using back substitution.\n",
    "            for j in range(i):\n",
    "                # Perform back substitution to calculate the inverse elements.\n",
    "                # The formula is derived similarly to the lower triangular case.\n",
    "                Minv[j, i] = -np.dot(M[j, j+1:], Minv[j+1:, i]) / M[j, j]\n",
    "    \n",
    "    # Return the calculated inverse matrix Minv.\n",
    "    return Minv\n",
    "\n",
    "def main():\n",
    "    # Define a specific lower triangular matrix M.\n",
    "    M = np.array([[9, 0, 0],\n",
    "                  [-4, 2, 0],\n",
    "                  [1, 0, 5]], dtype=float)\n",
    "    \n",
    "    # Call the triangleInverse function to compute the inverse of the matrix M,\n",
    "    # indicating that it is a lower triangular matrix by passing 'lower'.\n",
    "    Minv = triangleInverse(M, 'lower')\n",
    "    \n",
    "    # Print the calculated inverse of M.\n",
    "    print(\"Inverse of the matrix M:\\n\", Minv)\n",
    "\n",
    "# Execute the main function to run the code.\n",
    "main()\n",
    "\n",
    "\n",
    "# Given that MxM^-1 is close to the identity matrix (with minor numerical deviations), the solution is valid.\n",
    "\n",
    "# The diagonal elements of the inverse are the reciprocals of the diagonal elements of the original matrix M.\n",
    "# For example, if M = [[9, 0, 0], [-4, 2, 0], [1, 0, 5]], the inverse will have diagonal values [1/9, 1/2, 1/5].\n",
    "    \n",
    "# Zeroes in off-diagonal elements above the diagonal**:\n",
    "# The original matrix is lower triangular, so the inverse will also be lower triangular.\n",
    "# This means that all elements above the diagonal in the inverse matrix are zero, as shown in the output. However ...\n",
    "# When multiplying M and Minv, the result should be the identity matrix I, but due to floating-point\n",
    "# precision, there may be small numerical deviations. "
   ]
  },
  {
   "cell_type": "code",
   "execution_count": null,
   "metadata": {},
   "outputs": [],
   "source": []
  }
 ],
 "metadata": {
  "anaconda-cloud": {},
  "kernelspec": {
   "display_name": "Python 3 (ipykernel)",
   "language": "python",
   "name": "python3"
  },
  "language_info": {
   "codemirror_mode": {
    "name": "ipython",
    "version": 3
   },
   "file_extension": ".py",
   "mimetype": "text/x-python",
   "name": "python",
   "nbconvert_exporter": "python",
   "pygments_lexer": "ipython3",
   "version": "3.12.4"
  }
 },
 "nbformat": 4,
 "nbformat_minor": 4
}
