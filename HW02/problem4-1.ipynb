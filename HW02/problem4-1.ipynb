{
 "cells": [
  {
   "cell_type": "markdown",
   "metadata": {},
   "source": [
    "# PHYS 331 - Numerical Techniques for the Sciences I ",
    "\n",
    "## Homework 2: Integration and Random Number Generation\n",
    "\n",
    "### Problem 4 - Integration via Simpsons Rule (10 points)\n",
    "\n",
    "Name: *Viktorya Hunanyan*\n",
    "\n",
    "Onyen: *vhunany*\n",
    "\n",
    "Cell for *Problem 4(a)* appears below."
   ]
  },
  {
   "cell_type": "code",
   "execution_count": 43,
   "metadata": {},
   "outputs": [],
   "source": [
    "def simpson_integrator(xs, ys):\n",
    "    n = len(xs) - 1  # Number of intervals\n",
    "    if n % 2 != 0:\n",
    "        raise ValueError(\"Simpson's rule requires an even number of intervals (odd number of points).\")\n",
    "    \n",
    "    h = (xs[-1] - xs[0]) / n  # Step size\n",
    "    integral = ys[0] + ys[-1]  # First and last terms\n",
    "    \n",
    "    for i in range(1, n, 2):\n",
    "        integral += 4 * ys[i]\n",
    "    for i in range(2, n-1, 2):\n",
    "        integral += 2 * ys[i]\n",
    "    \n",
    "    return (h / 3) * integral\n"
   ]
  },
  {
   "cell_type": "markdown",
   "metadata": {},
   "source": [
    "Cell for *Problem 4(b)* appears below."
   ]
  },
  {
   "cell_type": "code",
   "execution_count": 45,
   "metadata": {},
   "outputs": [],
   "source": [
    "import numpy as np\n",
    "import matplotlib.pyplot as plt\n",
    "\n",
    "def gaussian(x, sigma, mu):\n",
    "    coefficient = 1 / (sigma * np.sqrt(2 * np.pi))\n",
    "    exponent = np.exp(-0.5 * ((x - mu) / sigma) ** 2)\n",
    "    \n",
    "    # Return the value of the PDF at x\n",
    "    return coefficient * exponent"
   ]
  },
  {
   "cell_type": "code",
   "execution_count": 46,
   "metadata": {},
   "outputs": [
    {
     "name": "stdout",
     "output_type": "stream",
     "text": [
      "Integral of Gaussian PDF from -3 to 3: 0.997300192454354\n"
     ]
    }
   ],
   "source": [
    "# As a test of your Simpson integrator, calculate the integral of Gaussian PDF\n",
    "# (equation 2) from [−3, 3] (you may assume σ = 1 and μ = 0). Compare your result to\n",
    "# the area as computed by Monte Carlo integration (using the number of data points\n",
    "# that were accepted from question 3(b).\n",
    "\n",
    "sigma = 1\n",
    "mu = 0\n",
    "\n",
    "# Generate x values (even number of intervals, so odd number of points)\n",
    "xs = np.linspace(-3, 3, 101)  # 101 points ensures 100 intervals, which is even\n",
    "ys = gaussian(xs, sigma, mu)  # Corresponding y values from the Gaussian PDF\n",
    "\n",
    "# Compute the integral using Simpson's rule\n",
    "integral = simpson_integrator(xs, ys)\n",
    "print(f\"Integral of Gaussian PDF from -3 to 3: {integral}\")"
   ]
  },
  {
   "cell_type": "code",
   "execution_count": 47,
   "metadata": {},
   "outputs": [
    {
     "name": "stdout",
     "output_type": "stream",
     "text": [
      "Simpson's Rule result: 0.997300192454354\n",
      "Monte Carlo result: 0.989057701571232\n",
      "Difference: 0.008242490883122011\n"
     ]
    }
   ],
   "source": [
    "# Comparing Monte Carlo to Simpson: Compare your result to\n",
    "# the area as computed by Monte Carlo integration (using the number of data points\n",
    "# that were accepted from question\n",
    "\n",
    "import numpy as np\n",
    "\n",
    "def monte_carlo_gaussian(mu, sigma, N):\n",
    "    max_gaussian = gaussian(mu, sigma, mu)\n",
    "    domain = [-3 * sigma, 3 * sigma]\n",
    "    \n",
    "    accepted_samples = 0\n",
    "    for num in range(N):\n",
    "        x = np.random.uniform(domain[0], domain[1])\n",
    "        u = np.random.uniform(0, max_gaussian)\n",
    "        \n",
    "        if u <= gaussian(x, sigma, mu):\n",
    "            accepted_samples += 1\n",
    "\n",
    "    area = accepted_samples / N * (domain[1] - domain[0]) * max_gaussian\n",
    "    return area\n",
    "\n",
    "sigma = 1\n",
    "mu = 0\n",
    "\n",
    "xs = np.linspace(-3, 3, 101)\n",
    "ys = gaussian(xs, sigma, mu)\n",
    "\n",
    "integral_simpsons = simpson_integrator(xs, ys)\n",
    "print(f\"Simpson's Rule result: {integral_simpsons}\")\n",
    "\n",
    "N_monte_carlo = 10000\n",
    "integral_monte_carlo = monte_carlo_gaussian(mu, sigma, N_monte_carlo)\n",
    "print(f\"Monte Carlo result: {integral_monte_carlo}\")\n",
    "\n",
    "print(f\"Difference: {np.abs(integral_simpsons - integral_monte_carlo)}\")\n"
   ]
  },
  {
   "cell_type": "code",
   "execution_count": null,
   "metadata": {},
   "outputs": [],
   "source": []
  }
 ],
 "metadata": {
  "anaconda-cloud": {},
  "kernelspec": {
   "display_name": "Python 3 (ipykernel)",
   "language": "python",
   "name": "python3"
  },
  "language_info": {
   "codemirror_mode": {
    "name": "ipython",
    "version": 3
   },
   "file_extension": ".py",
   "mimetype": "text/x-python",
   "name": "python",
   "nbconvert_exporter": "python",
   "pygments_lexer": "ipython3",
   "version": "3.12.4"
  }
 },
 "nbformat": 4,
 "nbformat_minor": 4
}
