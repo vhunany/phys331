{
 "cells": [
  {
   "cell_type": "markdown",
   "metadata": {},
   "source": [
    "# PHYS 331 - Numerical Techniques for the Sciences I\n",
    "## Homework 3: Number Representation and Root Finding\n",
    "### Problem 1 - Accumulation of Numerical Error (5 points)\n",
    "---\n",
    "Name: *Viktorya Hunanyan*\n",
    "\n",
    "Onyen: *vhunany*\n",
    "\n",
    "Cell for *Problem 1* is below."
   ]
  },
  {
   "cell_type": "code",
   "execution_count": 28,
   "metadata": {},
   "outputs": [
    {
     "name": "stdout",
     "output_type": "stream",
     "text": [
      "Results for delta = 0.1:\n",
      "  16-bit sum: 1.0\n",
      "  32-bit sum: 0.9000000953674316\n",
      "  64-bit sum: 0.9999999999999999\n",
      "\n",
      "\n",
      "Results for delta = 0.01:\n",
      "  16-bit sum: 0.978515625\n",
      "  32-bit sum: 0.9999993443489075\n",
      "  64-bit sum: 1.0000000000000007\n",
      "\n",
      "\n",
      "Results for delta = 0.001:\n",
      "  16-bit sum: 0.9775390625\n",
      "  32-bit sum: 0.9989907145500183\n",
      "  64-bit sum: 1.0000000000000007\n",
      "\n",
      "\n",
      "Results for delta = 0.0001:\n",
      "  16-bit sum: 0.25\n",
      "  32-bit sum: 1.0000535249710083\n",
      "  64-bit sum: 0.9999999999999062\n",
      "\n",
      "\n",
      "Results for delta = 1e-05:\n",
      "  16-bit sum: 0.03125\n",
      "  32-bit sum: 1.0009901523590088\n",
      "  64-bit sum: 0.9999899999980838\n",
      "\n",
      "\n"
     ]
    }
   ],
   "source": [
    "import numpy as np\n",
    "\n",
    "# YOU DO NOT NEED TO MODIFY THIS FUNCTION.\n",
    "# Computes the value 1.0 by repeatedly adding the 16-bit value delta to a running sum.\n",
    "# PARAMETERS:\n",
    "#     delta - (float) The value to add to the running sum each iteration.\n",
    "# RETURN VALUE: (numpy.float16) The computed sum.\n",
    "def calculateSum_16bit(delta):\n",
    "    sum = np.float16(0.0)\n",
    "    delta = np.float16(delta)  # Convert delta to a 16-bit floating point number.\n",
    "    \n",
    "    if delta == np.float16(0.0):  # If the 16-bit representation is exactly zero, throw an error.\n",
    "        print(\"Error: delta = \" + str(delta) + \" is equal to zero at this precision of 16 bits.\")\n",
    "        return\n",
    "    \n",
    "    for i in range(0, int(1. / delta)):  # Compute the sum using a for loop.\n",
    "        sum += delta\n",
    "        \n",
    "    return sum\n",
    "    \n",
    "# YOU DO NOT NEED TO MODIFY THIS FUNCTION.\n",
    "# Computes the value 1.0 by repeatedly adding the 32-bit value delta to a running sum.\n",
    "# PARAMETERS:\n",
    "#     delta - (float) The value to add to the running sum each iteration.\n",
    "# RETURN VALUE: (numpy.float32) The computed sum.\n",
    "def calculateSum_32bit(delta):\n",
    "    sum = np.float32(0.0)\n",
    "    delta = np.float32(delta)  # Convert delta to a 32-bit floating point number.\n",
    "    \n",
    "    if delta == np.float32(0.0):  # If the 32-bit representation is exactly zero, throw an error.\n",
    "        print(\"Error: delta = \" + str(delta) + \" is equal to zero at this precision of 32 bits.\")\n",
    "        return\n",
    "    \n",
    "    for i in range(0, int(1. / delta)):  # Compute the sum using a for loop.\n",
    "        sum += delta\n",
    "        \n",
    "    return sum\n",
    "\n",
    "\n",
    "# YOU DO NOT NEED TO MODIFY THIS FUNCTION.\n",
    "# Computes the value 1.0 by repeatedly adding the 64-bit value delta to a running sum.\n",
    "# PARAMETERS:\n",
    "#     delta - (float) The value to add to the running sum each iteration.\n",
    "# RETURN VALUE: (numpy.float64) The computed sum.\n",
    "def calculateSum_64bit(delta):\n",
    "    sum = np.float64(0.0)\n",
    "    delta = np.float64(delta)  # Convert delta to a 64-bit floating point number.\n",
    "    \n",
    "    if delta == np.float64(0.0):  # If the 64-bit representation is exactly zero, throw an error.\n",
    "        print(\"Error: delta = \" + str(delta) + \" is equal to zero at this precision of 64 bits.\")\n",
    "        return\n",
    "    \n",
    "    for i in range(0, int(1. / delta)):  # Compute the sum using a for loop.\n",
    "        sum += delta\n",
    "        \n",
    "    return sum\n",
    "\n",
    "def main():\n",
    "    # ??? Code to output results from the three functions above for different ???\n",
    "    # ??? values of delta is required here.                                   ???\n",
    "    # Define the values of delta\n",
    "    deltas = [1e-1, 1e-2, 1e-3, 1e-4, 1e-5]\n",
    "    \n",
    "    # Print results for each delta value for each precision function\n",
    "    for delta in deltas:\n",
    "        print(f\"Results for delta = {delta}:\")\n",
    "        \n",
    "        # 16-bit precision\n",
    "        result_16bit = calculateSum_16bit(delta)\n",
    "        print(f\"  16-bit sum: {result_16bit}\")\n",
    "        \n",
    "        # 32-bit precision\n",
    "        result_32bit = calculateSum_32bit(delta)\n",
    "        print(f\"  32-bit sum: {result_32bit}\")\n",
    "        \n",
    "        # 64-bit precision\n",
    "        result_64bit = calculateSum_64bit(delta)\n",
    "        print(f\"  64-bit sum: {result_64bit}\")\n",
    "        \n",
    "        print(\"\\n\")  # Newline\n",
    "    \n",
    "    \n",
    "    # pass why is pass here? \n",
    "\n",
    "main()\n",
    "    "
   ]
  },
  {
   "cell_type": "code",
   "execution_count": 29,
   "metadata": {},
   "outputs": [
    {
     "data": {
      "text/plain": [
       "True"
      ]
     },
     "execution_count": 29,
     "metadata": {},
     "output_type": "execute_result"
    }
   ],
   "source": [
    "np.float64(1e-324) == np.float64(0.0)"
   ]
  },
  {
   "cell_type": "markdown",
   "metadata": {},
   "source": [
    "*(a)* **What would happen if the error case for ∆ = 0 were not checked?**\n",
    "\n",
    "If we didn’t check for the error case when ∆ = 0, the code would try to divide by zero when calculating 1 / delta. This would lead to some undefined behavior, depending on how the system deals with division by zero. In Python, you’d get a ZeroDivisionError, which would crash the program."
   ]
  },
  {
   "cell_type": "markdown",
   "metadata": {},
   "source": [
    "*(b)* **Describe Observations of implementing the main() function.**\n",
    "\n",
    "As you lower delta, you'll notice the limits of each floating-point type's precision start to show. When delta is around 10^-4 or 10^-5, especially with 16-bit precision, the result probably won’t be exactly 1.0 because of rounding errors piling up. The 64-bit version can handle smaller delta values more accurately, while the 16-bit version will start to show noticeable errors sooner."
   ]
  },
  {
   "cell_type": "markdown",
   "metadata": {},
   "source": [
    "*(c)* **For a working precision of 16-bits, 32-bits, and 64-bits, what value of ∆\n",
    "causes the error message described above to be displayed?.**\n",
    "\n",
    "To figure out when the error message pops up, I ran a few tests with super small values of delta. The basic idea is that for very small values, the floating-point type can't actually represent the number accurately—it just becomes zero at some point.\n",
    "\n",
    "Here’s a breakdown:\n",
    "16-bit float: The smallest non-zero value it can handle is around 5.96e-08. Anything smaller than that turns into zero.\n",
    "32-bit float: Can go much smaller—down to around 1.18e-38.\n",
    "64-bit float: This one can handle ridiculously tiny values like 2.22e-308.\n",
    "What I Tested\n",
    "I tried a couple of small values of delta (1e-08 and 1e-09) to see when the error message would appear. Here’s what happened:\n",
    "\n",
    "Testing for delta = 1e-08:\n",
    "\n",
    "For 16-bit, I got the error: delta = 0.0 because 1e-08 is too small for it to represent. It just rounds it down to zero. So, no sum for 16-bit.\n",
    "32-bit was fine with this value, but I noticed the sum wasn’t exactly 1. It gave me 0.25, which is way off—probably because of rounding errors after adding it a bunch of times.\n",
    "64-bit nailed it with a sum of 1.0000000022898672, which is really close to 1, but still not perfect because of minor floating-point precision loss.\n",
    "Testing for delta = 1e-09:\n",
    "\n",
    "16-bit threw the same error again (delta = 0.0), meaning this value is way too small for 16-bit.\n",
    "For 32-bit, this was also too small, and I didn’t get a result—it likely hit the same precision limit as the 16-bit did.\n",
    "64-bit handled it fine but with a tiny bit of error, giving me 1.000000082740371.\n",
    "Why This Makes Sense\n",
    "The reason for these errors is that each floating-point type has a limit on how small a value it can store before rounding it to zero. Once that happens, any calculations using that \"zero\" value will be totally off (or cause an error). Smaller delta values hit those limits for 16-bit and even 32-bit floats pretty quickly, but 64-bit floats can handle really tiny numbers before rounding issues start to show.\n",
    "\n",
    "So for 16-bit floats, values below 5.96e-08 will give you errors, 32-bit handles things down to 1.18e-38, and 64-bit can work with insanely small numbers down to 2.22e-308. "
   ]
  },
  {
   "cell_type": "code",
   "execution_count": null,
   "metadata": {},
   "outputs": [],
   "source": []
  }
 ],
 "metadata": {
  "anaconda-cloud": {},
  "kernelspec": {
   "display_name": "Python 3 (ipykernel)",
   "language": "python",
   "name": "python3"
  },
  "language_info": {
   "codemirror_mode": {
    "name": "ipython",
    "version": 3
   },
   "file_extension": ".py",
   "mimetype": "text/x-python",
   "name": "python",
   "nbconvert_exporter": "python",
   "pygments_lexer": "ipython3",
   "version": "3.12.4"
  }
 },
 "nbformat": 4,
 "nbformat_minor": 4
}
