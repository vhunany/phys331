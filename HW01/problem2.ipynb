{
 "cells": [
  {
   "cell_type": "markdown",
   "metadata": {},
   "source": [
    "# PHYS 331 - Numerical Techniques for the Sciences I ",
    "\n",
    "## Homework 1: Python Introduction\n",
    "\n",
    "### Problem 2 - Functions and Control Flow in Python (7 points)\n",
    "\n",
    "Name: *Viktorya Hunanyan*\n",
    "\n",
    "Onyen: *vhunany*\n",
    "\n",
    "Cell for *Problem 2* is below."
   ]
  },
  {
   "cell_type": "code",
   "execution_count": 79,
   "metadata": {},
   "outputs": [
    {
     "name": "stdout",
     "output_type": "stream",
     "text": [
      "-0.8188333333333332\n",
      "0.0\n",
      "0.0\n",
      "0.008333333333333333\n"
     ]
    }
   ],
   "source": [
    "import math \n",
    "\n",
    "# ??? A solution is required here. ???\n",
    "# Be sure to import the math module and define your function\n",
    "# and return value according the the directions.\n",
    "\n",
    "def taylor_sin(x0, n): \n",
    "    \"\"\"Returns the value of the Taylor Series at n.\"\"\"\n",
    "    if n % 2 == 1: \n",
    "        # To get the sign, we use (-1) ** ((n - 1) // 2).\n",
    "        # This is because the signs alternate: +, -, +, -, etc., for each term.\n",
    "        # For example, for n = 1, 3, 5, 7... the signs are: +, -, +, -...\n",
    "        # By taking (n - 1) // 2, we get the corresponding exponent for (-1).\n",
    "        # Example: n = 3 -> (3 - 1) // 2 = 1 -> (-1)^1 = -1 (negative sign).\n",
    "        #          n = 5 -> (5 - 1) // 2 = 2 -> (-1)^2 = 1 (positive sign).\n",
    "        sign = (-1) ** ((n - 1) // 2)\n",
    "        \n",
    "        # Return the value of the n-th term: (sign * x0^n) / n!\n",
    "        return (sign * (x0 ** n)) / math.factorial(n)  # could have used a self-made factorial calculator\n",
    "    else: \n",
    "        # If n is even, return 0, since sin(x) is an odd function.\n",
    "        return 0.0\n",
    "\n",
    "# def factorial(n): \n",
    "#     \"\"\"Returns factorial of n.\"\"\"\n",
    "#     if n == 1: \n",
    "#         return n \n",
    "    \n",
    "#     return n * factorial(n - 1)\n",
    "\n",
    "print(taylor_sin(1.7, 3))  # testing the function should expect (-(1.7)^3) / 3! ~ -0.8188333...\n",
    "print(taylor_sin(1, 4))  # expecting 0.0 since n is even \n",
    "print(taylor_sin(2, 4))  # expecting 0.0 since n is even\n",
    "print(taylor_sin(1, 5))  # expecting positive"
   ]
  }
 ],
 "metadata": {
  "anaconda-cloud": {},
  "kernelspec": {
   "display_name": "Python 3 (ipykernel)",
   "language": "python",
   "name": "python3"
  },
  "language_info": {
   "codemirror_mode": {
    "name": "ipython",
    "version": 3
   },
   "file_extension": ".py",
   "mimetype": "text/x-python",
   "name": "python",
   "nbconvert_exporter": "python",
   "pygments_lexer": "ipython3",
   "version": "3.12.4"
  }
 },
 "nbformat": 4,
 "nbformat_minor": 4
}
