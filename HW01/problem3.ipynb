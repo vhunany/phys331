{
 "cells": [
  {
   "cell_type": "markdown",
   "metadata": {},
   "source": [
    "# PHYS 331 - Numerical Techniques for the Sciences I ",
    "\n",
    "## Homework 1: Python Introduction\n",
    "\n",
    "### Problem 3 - Recursive Functions (10 points)\n",
    "\n",
    "Name: *Viktorya Hunanyan*\n",
    "\n",
    "Onyen: *vhunany*\n",
    "\n",
    "Response for *Problem 3(a)*:\n",
    "\n",
    "*TThe base cases are the two lowest values in the sequence: 0 and 1. This is because the sequence builds on these values, where the succeeding values are derived by adding 0 to 1, 1 to 1, and so on. Let's say that the base case was 3 and 4. Then the resulting sequence would be 3, 4, 7, 11, and so on. As we can see it does not match the original Fibonacci sequence. Furthermore, in a recusive scenario, becuase we are calling fib(n - 1) + fib(n - 2), these function calls will go on and return negative values which would result in incorrect values and disrupt the sequence.*\n",
    "\n",
    "Cell for *Problem 3(b)* appears below."
   ]
  },
  {
   "cell_type": "code",
   "execution_count": 24,
   "metadata": {},
   "outputs": [
    {
     "name": "stdout",
     "output_type": "stream",
     "text": [
      "1\n",
      "0\n",
      "5\n",
      "21\n",
      "89\n"
     ]
    }
   ],
   "source": [
    "def fib(n):\n",
    "    # ??? A solution is required here. ???\n",
    "    # Be sure to include appropriate return statements.\n",
    "\n",
    "    # Base cases will be to return 0 if n is 0, and 1 if n is 1\n",
    "    # These are the smallest inputs where if we continue with the function, it will cause negative numbers which is not what we want.\n",
    "    # To avoid running unnecessary calculations, we go ahead in return the values since it will terminate reading the rest of the function.\n",
    "    if n == 0:\n",
    "        return n\n",
    "    elif n == 1:\n",
    "        return n\n",
    "    \n",
    "    # Initialize the first two Fibonacci numbers\n",
    "    a = 0\n",
    "    b = 1\n",
    "    \n",
    "    # Counter to keep track of the position in the sequence\n",
    "    count = 2  # Start counting from 2 since the first two values (0 and 1) are already defined\n",
    "\n",
    "    # Use a while loop to calculate the n-th Fibonacci number\n",
    "    while count <= n:\n",
    "        # Move to the next Fibonacci number by updating a and b\n",
    "        temp = a  # temporay a value to just store the current a value in \n",
    "        a = b\n",
    "        b = temp + b\n",
    "\n",
    "        count += 1\n",
    "    \n",
    "    # The n-th Fibonacci number is now stored in 'b', so return it\n",
    "    return b\n",
    "\n",
    "# Call the function to try \n",
    "print(fib(1))  # expected 1 \n",
    "print(fib(0))  # expected 0\n",
    "print(fib(5))  # expected 5 \n",
    "print(fib(8))  # expected 21\n",
    "print(fib(11))  #expected 89\n",
    "    "
   ]
  },
  {
   "cell_type": "markdown",
   "metadata": {},
   "source": [
    "Cell for *Problem 4(c)* appears below."
   ]
  },
  {
   "cell_type": "code",
   "execution_count": 26,
   "metadata": {},
   "outputs": [
    {
     "name": "stdout",
     "output_type": "stream",
     "text": [
      "1\n",
      "0\n",
      "5\n",
      "21\n",
      "89\n"
     ]
    }
   ],
   "source": [
    "def fib_r(n):\n",
    "    # ??? A solution is required here. ???\n",
    "    # Be sure to include appropriate return staements.\n",
    "\n",
    "    # Base cases would be fib(0) = 0 and fib(1) = 1 since adding n - 2 and n - 1 would result in negative values and therefore we want to stop there. \n",
    "    if n == 0:\n",
    "        return 0\n",
    "    elif n == 1:\n",
    "        return 1\n",
    "    else:\n",
    "        # we want to add\n",
    "        return fib(n - 1) + fib(n - 2)\n",
    "\n",
    "# Call the function to try -- testing to see if it match the outcome above \n",
    "print(fib_r(1))  # expected 1 \n",
    "print(fib_r(0))  # expected 0\n",
    "print(fib_r(5))  # expected 5 \n",
    "print(fib_r(8))  # expected 21\n",
    "print(fib_r(11))  #expected 89"
   ]
  },
  {
   "cell_type": "code",
   "execution_count": null,
   "metadata": {},
   "outputs": [],
   "source": []
  }
 ],
 "metadata": {
  "anaconda-cloud": {},
  "kernelspec": {
   "display_name": "Python 3 (ipykernel)",
   "language": "python",
   "name": "python3"
  },
  "language_info": {
   "codemirror_mode": {
    "name": "ipython",
    "version": 3
   },
   "file_extension": ".py",
   "mimetype": "text/x-python",
   "name": "python",
   "nbconvert_exporter": "python",
   "pygments_lexer": "ipython3",
   "version": "3.12.4"
  }
 },
 "nbformat": 4,
 "nbformat_minor": 4
}
