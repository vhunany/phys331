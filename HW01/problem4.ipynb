{
 "cells": [
  {
   "cell_type": "markdown",
   "metadata": {},
   "source": [
    "# PHYS 331 - Numerical Techniques for the Sciences I ",
    "\n",
    "## Homework 1: Python Introduction\n",
    "\n",
    "### Problem 4 - Small linear systems (10 points)\n",
    "\n",
    "Name: *Viktorya Hunanyan*\n",
    "\n",
    "Onyen: *vhunany*\n",
    "\n",
    "Cell for *Problem 5(a)* appears below."
   ]
  },
  {
   "cell_type": "code",
   "execution_count": 63,
   "metadata": {},
   "outputs": [],
   "source": [
    "# I watched a video on Cramer's rule because I did not know what that is. I did practice problems by hand before converting it to code. \n",
    "# Here is the video https://youtu.be/Ot87qLTODdQ?si=Gf-gEA7vfnIll6-u \n",
    "\n",
    "def determinant_2x2(a, b, c, d):\n",
    "    \"\"\"Function to calculate determinate.\"\"\"\n",
    "    return a * d - b * c\n",
    "\n",
    "def LinearSolve2(a,b,c,d,y1,y2):\n",
    "    # ??? A solution is required here. ???\n",
    "    # Be sure to include appropriate return statements.\n",
    "\n",
    "    det = determinant_2x2(a, b, c, d)\n",
    "    \n",
    "    # Check if determinant is too small before you begin Cramer's rule \n",
    "    if abs(det) < 1e-6:  # I googled how to write 10^−6 in python\n",
    "        print(\"Error: Determinant is too close to zero.\")\n",
    "        return None \n",
    "\n",
    "    # Apply Cramer's rule\n",
    "    x1 = (y1 * d - y2 * b) / det\n",
    "    x2 = (a * y2 - c * y1) / det\n",
    "\n",
    "    print(f\"x1 = {x1}, x2 = {x2}\")\n",
    "    \n",
    "    \n",
    "    "
   ]
  },
  {
   "cell_type": "code",
   "execution_count": 64,
   "metadata": {},
   "outputs": [
    {
     "name": "stdout",
     "output_type": "stream",
     "text": [
      "Error: Determinant is too close to zero.\n",
      "x1 = 3.0, x2 = 0.5\n"
     ]
    }
   ],
   "source": [
    "# Testing the functions above \n",
    "\n",
    "# Test that fails \n",
    "LinearSolve2(1, 2, 2, 4, 5, 10)\n",
    "\n",
    "# Test that passes \n",
    "LinearSolve2(3, 2, 1, 4, 10, 5)"
   ]
  },
  {
   "cell_type": "markdown",
   "metadata": {},
   "source": [
    "Cell for *Problem 5(b)* appears below."
   ]
  },
  {
   "cell_type": "code",
   "execution_count": 66,
   "metadata": {},
   "outputs": [],
   "source": [
    "# I watched a video on Cramer's rule because I did not know what that is. I did practice problems by hand before converting it to code. \n",
    "# Here is the video https://youtu.be/Ot87qLTODdQ?si=Gf-gEA7vfnIll6-u \n",
    "\n",
    "def determinant_3x3(matrix):\n",
    "    # Assign matrix elements using indexing\n",
    "    # Is there a simpler way to do this? We could also instantiate all constants and add them to a list and iterate through the matrix values\n",
    "    # and assign each element to the constant variable\n",
    "    a = matrix[0][0]\n",
    "    b = matrix[0][1]\n",
    "    c = matrix[0][2]\n",
    "    \n",
    "    d = matrix[1][0]\n",
    "    e = matrix[1][1]\n",
    "    f = matrix[1][2]\n",
    "    \n",
    "    g = matrix[2][0]\n",
    "    h = matrix[2][1]\n",
    "    i = matrix[2][2]\n",
    "\n",
    "    # Calculate the determinant of the 3x3 matrix\n",
    "    return a * (e * i - f * h) - b * (d * i - f * g) + c * (d * h - e * g)\n",
    "\n",
    "def LinearSolve3(a,b,c,d,e,f,g,h,i,y1,y2,y3):\n",
    "    # ??? A solution is required here. ???\n",
    "    # Be sure to include appropriate return staements.\n",
    "\n",
    "    # Form the coefficient matrix (learned this from 383) and calculate its determinant by calling the determinant function \n",
    "    coeff_matrix = [[a, b, c], [d, e, f], [g, h, i]]\n",
    "    det = determinant_3x3(coeff_matrix)\n",
    "    \n",
    "    # Check if determinant is too small\n",
    "    if abs(det) < 1e-6:  # I googled how to write 10^−6 in python\n",
    "        print(\"Error: Determinant is too close to zero.\")\n",
    "        return None \n",
    "\n",
    "    # Cramer's rule to find x1, x2, x3\n",
    "    x1_matrix = [[y1, b, c], [y2, e, f], [y3, h, i]]\n",
    "    x2_matrix = [[a, y1, c], [d, y2, f], [g, y3, i]]\n",
    "    x3_matrix = [[a, b, y1], [d, e, y2], [g, h, y3]]\n",
    "\n",
    "    x1 = determinant_3x3(x1_matrix) / det\n",
    "    x2 = determinant_3x3(x2_matrix) / det\n",
    "    x3 = determinant_3x3(x3_matrix) / det\n",
    "\n",
    "    print(f\"x1 = {x1}, x2 = {x2}, x3 = {x3}\")"
   ]
  },
  {
   "cell_type": "code",
   "execution_count": 67,
   "metadata": {},
   "outputs": [
    {
     "name": "stdout",
     "output_type": "stream",
     "text": [
      "Error: Determinant is too close to zero.\n",
      "x1 = 2.0, x2 = 3.0, x3 = -1.0\n"
     ]
    }
   ],
   "source": [
    "# Testing the functions above \n",
    "\n",
    "# Test that fails \n",
    "LinearSolve3(1, 2, 3, 4, 5, 6, 7, 8, 9, 10, 11, 12)\n",
    "\n",
    "# Test that passes \n",
    "LinearSolve3(2, 1, -1, -3, -1, 2, -2, 1, 2, 8, -11, -3)"
   ]
  },
  {
   "cell_type": "code",
   "execution_count": null,
   "metadata": {},
   "outputs": [],
   "source": []
  }
 ],
 "metadata": {
  "anaconda-cloud": {},
  "kernelspec": {
   "display_name": "Python 3 (ipykernel)",
   "language": "python",
   "name": "python3"
  },
  "language_info": {
   "codemirror_mode": {
    "name": "ipython",
    "version": 3
   },
   "file_extension": ".py",
   "mimetype": "text/x-python",
   "name": "python",
   "nbconvert_exporter": "python",
   "pygments_lexer": "ipython3",
   "version": "3.12.4"
  }
 },
 "nbformat": 4,
 "nbformat_minor": 4
}
